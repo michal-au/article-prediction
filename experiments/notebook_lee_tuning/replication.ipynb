{
 "cells": [
  {
   "cell_type": "code",
   "execution_count": 2,
   "metadata": {
    "collapsed": true
   },
   "outputs": [],
   "source": [
    "from __init__ import *\n",
    "\n",
    "#print train_tun_Y[:10]\n",
    "#HTML(train_tun_X_orig.head(10).to_html())"
   ]
  },
  {
   "cell_type": "code",
   "execution_count": 3,
   "metadata": {
    "collapsed": false
   },
   "outputs": [
    {
     "name": "stdout",
     "output_type": "stream",
     "text": [
      "'_coordinates',\n",
      "'_sent',\n",
      "'a_head_form',\n",
      "'a_head_number',\n",
      "'a_head_pos',\n",
      "'a_hypernyms',\n",
      "'a_non_article_det',\n",
      "'a_parent',\n",
      "'a_pos_after_head',\n",
      "'a_pos_before_head',\n",
      "'a_referent',\n",
      "'a_words_after_head',\n",
      "'a_words_after_np',\n",
      "'a_words_before_head',\n",
      "'a_words_before_np',\n",
      "'b_head_pos_simple',\n",
      "'b_head_proper',\n",
      "'b_is_postmodified',\n",
      "'b_postmodification_length',\n",
      "'b_postmodification_pp_of',\n",
      "'b_postmodification_type',\n",
      "'b_postmodification_type_specific',\n"
     ]
    }
   ],
   "source": [
    "for col in train_tun_X_orig.columns.values:\n",
    "    print \"'\" + col + \"'\" + \",\""
   ]
  },
  {
   "cell_type": "code",
   "execution_count": 78,
   "metadata": {
    "collapsed": false
   },
   "outputs": [
    {
     "name": "stdout",
     "output_type": "stream",
     "text": [
      "Y            A      THE      ZERO       All\n",
      "OF                                         \n",
      "False  20830.0  44391.0  175051.0  240272.0\n",
      "True    4053.0   7783.0   10980.0   22816.0\n",
      "All    24883.0  52174.0  186031.0  263088.0\n"
     ]
    }
   ],
   "source": [
    "from pandas import pivot_table\n",
    "import numpy as np\n",
    "df = pandas.DataFrame()\n",
    "df['Y'] = train_tun_Y\n",
    "df['OF'] = train_tun_X_orig.apply(lambda x: x['b_postmodification_type'] == 'PP' and x['b_postmodification_type_specific'].lower() == 'of', axis=1)\n",
    "table = pivot_table(df, index='OF', columns='Y', aggfunc=len, margins=True)\n",
    "print table"
   ]
  },
  {
   "cell_type": "code",
   "execution_count": 12,
   "metadata": {
    "collapsed": false
   },
   "outputs": [
    {
     "name": "stdout",
     "output_type": "stream",
     "text": [
      "0.883584755855\n"
     ]
    }
   ],
   "source": [
    "sel_features = [\n",
    "#'_coordinates',\n",
    "#'_sent',\n",
    "'a_head_form',\n",
    "'a_head_number',\n",
    "#'a_head_pos',\n",
    "'a_hypernyms',\n",
    "'a_non_article_det',\n",
    "'a_parent',\n",
    "'a_pos_after_head',\n",
    "'a_pos_before_head',\n",
    "'a_referent',\n",
    "'a_words_after_head',\n",
    "'a_words_after_np',\n",
    "'a_words_before_head',\n",
    "'a_words_before_np',\n",
    "'b_head_pos_simple',\n",
    "'b_head_proper',\n",
    "#'b_is_postmodified',\n",
    "#'b_postmodification_length',\n",
    "'b_postmodification_pp_of',\n",
    "#'b_postmodification_type',\n",
    "#'b_postmodification_type_specific',      \n",
    "]\n",
    "train_tun_X_resolved = resolve_list_features(train_tun_X_orig.ix[:,sel_features])\n",
    "heldout_tun_X_resolved = resolve_list_features(heldout_tun_X_orig.ix[:,sel_features])\n",
    "HTML(pandas.DataFrame([train_tun_X_resolved[0]]).to_html())\n",
    "remove_nans_from_dicts(train_tun_X_resolved)\n",
    "remove_nans_from_dicts(heldout_tun_X_resolved)\n",
    "\n",
    "vec = DictVectorizer()\n",
    "train_tun_X = vec.fit_transform(train_tun_X_resolved)\n",
    "heldout_tun_X = vec.transform(heldout_tun_X_resolved)\n",
    "\n",
    "#model_tun = LogisticRegression(solver='lbfgs' ,multi_class='multinomial')\n",
    "model_tun = LogisticRegression(penalty='l1', solver='liblinear')\n",
    "model_tun.fit(train_tun_X, train_tun_Y.ravel())\n",
    "print model_tun.score(heldout_tun_X, heldout_tun_Y)"
   ]
  },
  {
   "cell_type": "markdown",
   "metadata": {},
   "source": [
    "0.883584755855 (l1, liblinear, 'a_head_form', 'a_head_number','a_hypernyms','a_non_article_det','a_parent','a_pos_after_head','a_pos_before_head','a_referent','a_words_after_head','a_words_after_np','a_words_before_head','a_words_before_np','b_head_pos_simple','b_head_proper', )\n",
    "\n",
    "88169"
   ]
  },
  {
   "cell_type": "code",
   "execution_count": 35,
   "metadata": {
    "collapsed": true
   },
   "outputs": [],
   "source": [
    "train_X_resolved = resolve_list_features(train_X_orig.ix[:,2:])\n",
    "heldout_X_resolved = resolve_list_features(heldout_X_orig.ix[:,2:])"
   ]
  },
  {
   "cell_type": "code",
   "execution_count": 37,
   "metadata": {
    "collapsed": true
   },
   "outputs": [],
   "source": [
    "remove_nans_from_dicts(train_X_resolved)\n",
    "remove_nans_from_dicts(heldout_X_resolved)"
   ]
  },
  {
   "cell_type": "code",
   "execution_count": 4,
   "metadata": {
    "collapsed": true
   },
   "outputs": [],
   "source": [
    "vec = DictVectorizer()\n",
    "train_X = vec.fit_transform(train_X_resolved)\n",
    "heldout_X = vec.transform(heldout_X_resolved)"
   ]
  },
  {
   "cell_type": "code",
   "execution_count": 5,
   "metadata": {
    "collapsed": false
   },
   "outputs": [
    {
     "data": {
      "text/plain": [
       "LogisticRegression(C=1.0, class_weight=None, dual=False, fit_intercept=True,\n",
       "          intercept_scaling=1, max_iter=100, multi_class='multinomial',\n",
       "          n_jobs=1, penalty='l2', random_state=None, solver='lbfgs',\n",
       "          tol=0.0001, verbose=0, warm_start=False)"
      ]
     },
     "execution_count": 5,
     "metadata": {},
     "output_type": "execute_result"
    }
   ],
   "source": [
    "model = LogisticRegression(solver='lbfgs' ,multi_class='multinomial')\n",
    "model.fit(train_X, train_Y.ravel())"
   ]
  },
  {
   "cell_type": "code",
   "execution_count": 6,
   "metadata": {
    "collapsed": false
   },
   "outputs": [
    {
     "name": "stdout",
     "output_type": "stream",
     "text": [
      "0.88050813815\n",
      "0.862445414847\n"
     ]
    }
   ],
   "source": [
    "print model.score(heldout_X, heldout_Y)"
   ]
  },
  {
   "cell_type": "markdown",
   "metadata": {},
   "source": [
    "<b>Lee's result</b> 0.877"
   ]
  },
  {
   "cell_type": "code",
   "execution_count": 7,
   "metadata": {
    "collapsed": false
   },
   "outputs": [
    {
     "name": "stderr",
     "output_type": "stream",
     "text": [
      "/usr/lib/pymodules/python2.7/matplotlib/collections.py:548: FutureWarning: elementwise comparison failed; returning scalar instead, but in the future will perform elementwise comparison\n",
      "  if self._edgecolors == 'face':\n"
     ]
    },
    {
     "data": {
      "image/png": "[encoded data removed]"
     },
     "metadata": {},
     "output_type": "display_data"
    }
   ],
   "source": [
    "%matplotlib inline\n",
    "import numpy\n",
    "cm = confusion_matrix(heldout_Y, model.predict(heldout_X))\n",
    "cm_normalized = cm.astype('float') / cm.sum(axis=1)[:, numpy.newaxis]\n",
    "y_names = numpy.unique(heldout_Y.ravel())\n",
    "plot_cm(cm_normalized, y_names)"
   ]
  },
  {
   "cell_type": "code",
   "execution_count": 8,
   "metadata": {
    "collapsed": false
   },
   "outputs": [
    {
     "name": "stdout",
     "output_type": "stream",
     "text": [
      "[[ 630  177   84]\n",
      " [ 155 1544  463]\n",
      " [  77  248 6698]]\n",
      "[[ 0.70707071  0.1986532   0.09427609]\n",
      " [ 0.07169288  0.71415356  0.21415356]\n",
      " [ 0.01096398  0.03531254  0.95372348]]\n"
     ]
    }
   ],
   "source": [
    "print cm\n",
    "print cm_normalized"
   ]
  },
  {
   "cell_type": "code",
   "execution_count": 9,
   "metadata": {
    "collapsed": true
   },
   "outputs": [],
   "source": [
    "export_errors(model.predict(heldout_X), heldout_Y, heldout_X_orig, log_path)"
   ]
  }
 ],
 "metadata": {
  "kernelspec": {
   "display_name": "Python 3",
   "language": "python",
   "name": "python3"
  },
  "language_info": {
   "codemirror_mode": {
    "name": "ipython",
    "version": 3
   },
   "file_extension": ".py",
   "mimetype": "text/x-python",
   "name": "python",
   "nbconvert_exporter": "python",
   "pygments_lexer": "ipython3",
   "version": "3.6.0"
  }
 },
 "nbformat": 4,
 "nbformat_minor": 0
}
