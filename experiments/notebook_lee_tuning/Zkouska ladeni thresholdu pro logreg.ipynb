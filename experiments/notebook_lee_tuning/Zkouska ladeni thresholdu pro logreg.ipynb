{
 "cells": [
  {
   "cell_type": "code",
   "execution_count": 56,
   "metadata": {
    "collapsed": false
   },
   "outputs": [],
   "source": [
    "import pickle\n",
    "import numpy as np\n",
    "import scipy\n",
    "import scipy.sparse\n",
    "from scipy.optimize import minimize\n",
    "import sklearn\n",
    "from sklearn import metrics\n",
    "from copy import deepcopy\n",
    "import os\n",
    "import sys\n",
    "\n",
    "PROJECT_DIR = '/home/michal/diplomka/code'\n",
    "if PROJECT_DIR not in sys.path:\n",
    "    sys.path.append(PROJECT_DIR)\n",
    "from lib.utils import load_csr_matrix\n",
    "\n",
    "FEATURES = ['a_hypernyms', 'a_head_form', 'a_head_number', 'a_non_article_det', 'a_parent', 'a_pos_after_head', 'a_pos_before_head', 'a_words_after_head', 'a_words_after_np', 'a_words_before_head', 'a_words_before_np', 'b_head_proper', 'b_head_pos_simple', 'b_object_form', 'b_pos_after_head_as_list', 'b_pos_before_head_as_list', 'b_pp_object_form', 'b_postmodification_type', 'b_referent', 'b_words_after_head_as_list', 'b_words_after_np_as_list', 'b_words_before_head_as_list', 'b_words_before_np_as_list', 'c_countability_bnc', 'd_head_form_embeddings', 'e_kenlm_ggl_5_lc_nbs']\n",
    "TEST_SET_NAME = 'heldout'\n",
    "MODEL_PATH = '/home/michal/diplomka/data/model/'\n",
    "DATA_PATH = '/home/michal/diplomka/data/features/penn/postprocessed'"
   ]
  },
  {
   "cell_type": "code",
   "execution_count": 13,
   "metadata": {
    "collapsed": true
   },
   "outputs": [],
   "source": [
    "def load_data(features, dataset_name, sample=None):\n",
    "    y = np.load(os.path.join(DATA_PATH, dataset_name, 'Y_article'))\n",
    "    if sample:\n",
    "        np.random.seed(seed=42)\n",
    "        sample_indices = [np.random.choice(len(y), sample, replace=False)]\n",
    "        y = y[sample_indices]\n",
    "        \n",
    "    feature_matrices = []\n",
    "    for feature_name in features:\n",
    "        feature_matrix = load_csr_matrix(\n",
    "            os.path.join(DATA_PATH, dataset_name, feature_name + '.npz')\n",
    "        )\n",
    "        if sample:\n",
    "            feature_matrix = scipy.sparse.csr_matrix(feature_matrix.toarray()[sample_indices])\n",
    "        feature_matrices.append(feature_matrix)\n",
    "    x =  scipy.sparse.hstack(feature_matrices)\n",
    "    assert x.shape[0] == len(y)\n",
    "    return x, y\n",
    "\n",
    "def load_model(name):\n",
    "    return pickle.load(open(os.path.join(MODEL_PATH, name), 'rb'))"
   ]
  },
  {
   "cell_type": "code",
   "execution_count": 5,
   "metadata": {
    "collapsed": true
   },
   "outputs": [],
   "source": [
    "test_x, test_y = load_data(FEATURES, TEST_SET_NAME)"
   ]
  },
  {
   "cell_type": "code",
   "execution_count": 36,
   "metadata": {
    "collapsed": false
   },
   "outputs": [],
   "source": [
    "data_size = 20000\n",
    "model_the = load_model('logreg_ovr_binarized_{}_allfeatures_{}.pkl'.format('THE', data_size))\n",
    "model_a = load_model('logreg_ovr_binarized_{}_allfeatures_{}.pkl'.format('A', data_size))\n",
    "model_zero = load_model('logreg_ovr_binarized_{}_allfeatures_{}.pkl'.format('ZERO', data_size))"
   ]
  },
  {
   "cell_type": "code",
   "execution_count": 26,
   "metadata": {
    "collapsed": true
   },
   "outputs": [],
   "source": [
    "def softmax(z):\n",
    "    return np.exp(z) / np.sum(np.exp(z), axis=1, keepdims=True)\n",
    "\n",
    "def cost(Y, T):\n",
    "    # Y - predicted matrix\n",
    "    # T - target matrix\n",
    "    return - np.multiply(T, np.log(Y)).sum()"
   ]
  },
  {
   "cell_type": "code",
   "execution_count": 42,
   "metadata": {
    "collapsed": false
   },
   "outputs": [
    {
     "data": {
      "text/plain": [
       "array([[-0.01216528,  0.01529098,  0.35410395, ...,  0.31741846,\n",
       "         0.90595677, -0.16581469]])"
      ]
     },
     "execution_count": 42,
     "metadata": {},
     "output_type": "execute_result"
    }
   ],
   "source": [
    "model_the_params = model_the.coef_\n",
    "model_the_params"
   ]
  },
  {
   "cell_type": "code",
   "execution_count": 54,
   "metadata": {
    "collapsed": false
   },
   "outputs": [],
   "source": [
    "pred_y = np.array([model_the.predict_proba(test_x)[:,0], model_a.predict_proba(test_x)[:,0], model_zero.predict_proba(test_x)[:,0]]).T\n",
    "true_y = np.array([test_y == 'THE', test_y == 'A', test_y == 'ZERO']).T"
   ]
  },
  {
   "cell_type": "code",
   "execution_count": 140,
   "metadata": {
    "collapsed": false
   },
   "outputs": [],
   "source": [
    "def mycost(coefs):\n",
    "    print(coefs)\n",
    "    new_pred = pred_y * coefs\n",
    "    new_pred = new_pred / new_pred.sum(axis=1, keepdims=True)\n",
    "    new_pred[new_pred < 0] = 0\n",
    "    assert (new_pred >= 0).all(), new_pred[new_pred < 0]\n",
    "    cost = - (1/pred_y.shape[0])*np.multiply(true_y, np.log(new_pred * coefs)).sum()\n",
    "    print(cost)\n",
    "    return cost"
   ]
  },
  {
   "cell_type": "code",
   "execution_count": 63,
   "metadata": {
    "collapsed": false
   },
   "outputs": [],
   "source": [
    "def mycost_mod(coefs):\n",
    "    print(coefs)\n",
    "    model_the_, model_a_, model_zero_ = deepcopy(model_the), deepcopy(model_a), deepcopy(model_zero)\n",
    "    model_the_.intercept_[0] += coefs[0]\n",
    "    model_a_.intercept_[0] += coefs[1]\n",
    "    model_zero_.intercept_[0] += coefs[2]\n",
    "    new_pred = np.array([model_the_.predict_proba(test_x)[:,0], model_a_.predict_proba(test_x)[:,0], model_zero_.predict_proba(test_x)[:,0]]).T\n",
    "    cost = - (1/new_pred.shape[0])*np.multiply(true_y, np.log(new_pred)).sum() + (1/pred_y.shape[0])*(np.array(\n",
    "        [model_the_.intercept_[0] + model_the_.coef_, model_a_.intercept_[0] + model_a_.coef_, model_zero_.intercept_[0]+ + model_zero_.coef_]) ** 2).sum()\n",
    "    print(\"cost:\", cost)\n",
    "    print(\"acc:\", metrics.accuracy_score(test_y, [('THE', 'A', 'ZERO')[idx] for idx in np.argmax(new_pred, axis=1)]))\n",
    "    return cost\n",
    "    #model_kvik.intercept_[0] -= 1\n",
    "    #new_pred = pred_y * coefs\n",
    "    #new_pred = new_pred / new_pred.sum(axis=1, keepdims=True)"
   ]
  },
  {
   "cell_type": "code",
   "execution_count": 48,
   "metadata": {
    "collapsed": false
   },
   "outputs": [
    {
     "name": "stdout",
     "output_type": "stream",
     "text": [
      "[ 1.05756054  1.71348778 -1.26151973]\n"
     ]
    },
    {
     "data": {
      "text/plain": [
       "5.645906715738616"
      ]
     },
     "execution_count": 48,
     "metadata": {},
     "output_type": "execute_result"
    }
   ],
   "source": [
    "print(np.array([model_the.intercept_[0], model_a.intercept_[0], model_zero.intercept_[0]]))\n",
    "(np.array([model_the.intercept_[0], model_a.intercept_[0], model_zero.intercept_[0]]) ** 2).sum()"
   ]
  },
  {
   "cell_type": "code",
   "execution_count": 148,
   "metadata": {
    "collapsed": true
   },
   "outputs": [
    {
     "name": "stdout",
     "output_type": "stream",
     "text": [
      "[0.0001, 0.0001, 102876098]\n",
      "-2.15704466487\n",
      "cost: -2.1570446648736286\n",
      "[[False False  True]\n",
      " [ True False False]\n",
      " [False False  True]\n",
      " [ True False False]\n",
      " [False False  True]\n",
      " [False False  True]\n",
      " [False False  True]\n",
      " [ True False False]\n",
      " [False False  True]\n",
      " [ True False False]]\n",
      "[[  7.81273510e-02   1.56155310e-03   9.45086747e-01]\n",
      " [  9.50872875e-01   5.52627824e-05   6.22502417e-02]\n",
      " [  6.02076009e-02   4.60515366e-01   4.56935241e-01]\n",
      " [  8.88335465e-01   2.78838330e-01   1.88764209e-03]\n",
      " [  3.30354280e-01   3.44761399e-02   5.19204413e-01]\n",
      " [  4.28446859e-03   4.73908781e-02   9.74992830e-01]\n",
      " [  1.39957831e-03   1.69429552e-03   9.99432185e-01]\n",
      " [  9.57437879e-01   5.98481863e-03   4.80073175e-02]\n",
      " [  5.79297535e-02   2.12585466e-03   8.69109641e-01]\n",
      " [  9.08458116e-01   2.01207981e-01   1.05510037e-02]]\n",
      "[[  8.03557470e-14   1.60609267e-15   1.00000000e+00]\n",
      " [  1.48479649e-11   8.62933287e-16   1.00000000e+00]\n",
      " [  1.28080255e-13   9.79659126e-13   1.00000000e+00]\n",
      " [  4.57449192e-10   1.43588063e-10   9.99999999e-01]\n",
      " [  6.18482020e-13   6.45454712e-14   1.00000000e+00]\n",
      " [  4.27150636e-15   4.72475018e-14   1.00000000e+00]\n",
      " [  1.36122334e-15   1.64786393e-15   1.00000000e+00]\n",
      " [  1.93860212e-11   1.21179476e-13   1.00000000e+00]\n",
      " [  6.47906937e-14   2.37763135e-15   1.00000000e+00]\n",
      " [  8.36944484e-11   1.85368931e-11   1.00000000e+00]]\n",
      "0.868201667328\n",
      "0.697002778881\n"
     ]
    }
   ],
   "source": [
    "coefs = [ 1.03333333, 0.9 , 1.16666667]\n",
    "#coefs = [1.35000000, -7.10542736e-15,   3.35000000e+00]\n",
    "#coefs = [ 0.3382716,   0.18024691,  5.81666667]\n",
    "coefs = [ 0.0001, 0.0001, 102876098]\n",
    "cost = mycost(coefs)\n",
    "print('cost: {}'.format(cost))\n",
    "print(true_y[:10,:])\n",
    "print(pred_y[:10,:])\n",
    "npr = pred_y * coefs\n",
    "npr = npr / npr.sum(axis=1, keepdims=True)\n",
    "print(npr[:10,:])\n",
    "print(metrics.accuracy_score(test_y, [('THE', 'A', 'ZERO')[idx] for idx in np.argmax(pred_y, axis=1)]))\n",
    "print(metrics.accuracy_score(test_y, [('THE', 'A', 'ZERO')[idx] for idx in np.argmax(npr, axis=1)]))"
   ]
  },
  {
   "cell_type": "code",
   "execution_count": 64,
   "metadata": {
    "collapsed": false
   },
   "outputs": [
    {
     "name": "stdout",
     "output_type": "stream",
     "text": [
      "[ 1.  1.  1.]\n",
      "cost: 42.1293226869\n",
      "acc: 0.868201667328\n",
      "[ 1.05  1.    1.  ]\n",
      "cost: 42.8697189825\n",
      "acc: 0.868201667328\n",
      "[ 1.    1.05  1.  ]\n",
      "cost: 43.097519977\n",
      "acc: 0.868598650258\n",
      "[ 1.    1.    1.05]\n",
      "cost: 42.0515156126\n",
      "acc: 0.868102421596\n",
      "[ 1.03333333  0.95        1.03333333]\n",
      "cost: 41.6165652267\n",
      "acc: 0.867804684399\n",
      "[ 1.05  0.9   1.05]\n",
      "cost: 40.9084817478\n",
      "acc: 0.867506947201\n",
      "[ 0.98333333  0.93333333  1.06666667]\n",
      "cost: 40.5231968059\n",
      "acc: 0.868003175863\n",
      "[ 0.95  0.9   1.1 ]\n",
      "cost: 39.3853531917\n",
      "acc: 0.867506947201\n",
      "[ 1.          0.86666667  1.13333333]\n",
      "cost: 39.4657634631\n",
      "acc: 0.867109964272\n",
      "[ 1.          0.77777778  1.13888889]\n",
      "cost: 37.8675539431\n",
      "acc: 0.866812227074\n",
      "[ 1.          0.66666667  1.18333333]\n",
      "cost: 35.9274057197\n",
      "acc: 0.866911472807\n",
      "[ 0.91666667  0.72222222  1.22777778]\n",
      "cost: 35.6667153631\n",
      "acc: 0.867804684399\n",
      "[ 0.85        0.63333333  1.31666667]\n",
      "cost: 33.2609918339\n",
      "acc: 0.866911472807\n",
      "[ 0.86666667  0.6         1.26666667]\n",
      "cost: 32.9218178493\n",
      "acc: 0.866712981342\n",
      "[ 0.8         0.46666667  1.33333333]\n",
      "cost: 29.9327768642\n",
      "acc: 0.86581976975\n",
      "[ 0.81666667  0.27777778  1.45555556]\n",
      "cost: 27.4978712191\n",
      "acc: 0.864033346566\n",
      "[ 0.75       -0.03333333  1.63333333]\n",
      "cost: 22.9637466084\n",
      "acc: 0.862643906312\n",
      "[ 0.6         0.04444444  1.67222222]\n",
      "cost: 22.1736639623\n",
      "acc: 0.862842397777\n",
      "[ 0.4        -0.26666667  1.91666667]\n",
      "cost: 17.3847281646\n",
      "acc: 0.857780865423\n",
      "[ 0.45       -0.52222222  1.93888889]\n",
      "cost: 15.6337586012\n",
      "acc: 0.856589916634\n",
      "[ 0.25 -1.1   2.25]\n",
      "cost: 11.8143984041\n",
      "acc: 0.841703056769\n",
      "[ 0.13333333 -1.4         2.53333333]\n",
      "cost: 12.1002281295\n",
      "acc: 0.829793568877\n",
      "[-0.22777778 -1.81111111  2.83333333]\n",
      "cost: 12.24531541\n",
      "acc: 0.80994442239\n",
      "[-0.2962963  -2.60740741  3.16111111]\n",
      "cost: 18.7121460526\n",
      "acc: 0.772628026995\n",
      "[ 0.22592593 -0.85185185  2.22777778]\n",
      "cost: 12.7337784111\n",
      "acc: 0.845176657404\n",
      "[-0.12222222 -2.02222222  2.85      ]\n",
      "cost: 13.3975892081\n",
      "acc: 0.804982135768\n",
      "[ 0.13888889 -1.14444444  2.38333333]\n",
      "cost: 11.6540217313\n",
      "acc: 0.836244541485\n",
      "[ 0.57592593 -0.61851852  1.94444444]\n",
      "cost: 16.2894792225\n",
      "acc: 0.854307264788\n",
      "[-0.02685185 -1.51296296  2.61111111]\n",
      "cost: 11.3582069791\n",
      "acc: 0.823441842001\n",
      "[ 0.10802469 -1.10493827  2.2962963 ]\n",
      "cost: 10.8804989315\n",
      "acc: 0.83892417626\n",
      "[ 0.09537037 -0.95740741  2.17777778]\n",
      "cost: 10.6529699135\n",
      "acc: 0.843886462882\n",
      "[-0.1117284  -1.30987654  2.53148148]\n",
      "cost: 10.4454908708\n",
      "acc: 0.82870186582\n",
      "[-0.29259259 -1.41481481  2.67222222]\n",
      "cost: 10.436933741\n",
      "acc: 0.820067487098\n",
      "[-0.2882716  -1.44567901  2.59074074]\n",
      "cost: 9.59309902308\n",
      "acc: 0.821953156014\n",
      "[-0.50185185 -1.5962963   2.69444444]\n",
      "cost: 9.40237097732\n",
      "acc: 0.812921794363\n",
      "[-0.43919753 -1.13271605  2.41851852]\n",
      "cost: 8.2431930162\n",
      "acc: 0.82830488289\n",
      "[-0.64537037 -0.94259259  2.32222222]\n",
      "cost: 7.6190401149\n",
      "acc: 0.828999603017\n",
      "[-1.05524691 -1.67839506  2.94814815]\n",
      "cost: 11.0793174354\n",
      "acc: 0.789202064311\n",
      "[-0.19228395 -1.13765432  2.37037037]\n",
      "cost: 9.14014433574\n",
      "acc: 0.835053592696\n",
      "Warning: Maximum number of iterations has been exceeded.\n"
     ]
    }
   ],
   "source": [
    "res = minimize(mycost_mod, [1,1,1], method='nelder-mead', options={'xtol': 1e-2, 'disp': True, 'maxiter': 20})"
   ]
  },
  {
   "cell_type": "code",
   "execution_count": null,
   "metadata": {
    "collapsed": true
   },
   "outputs": [],
   "source": []
  }
 ],
 "metadata": {
  "kernelspec": {
   "display_name": "Python 3",
   "language": "python",
   "name": "python3"
  },
  "language_info": {
   "codemirror_mode": {
    "name": "ipython",
    "version": 3
   },
   "file_extension": ".py",
   "mimetype": "text/x-python",
   "name": "python",
   "nbconvert_exporter": "python",
   "pygments_lexer": "ipython3",
   "version": "3.6.0"
  }
 },
 "nbformat": 4,
 "nbformat_minor": 2
}
