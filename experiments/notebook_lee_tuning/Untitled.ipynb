{
 "cells": [
  {
   "cell_type": "markdown",
   "metadata": {},
   "source": [
    "## Random Forrest"
   ]
  },
  {
   "cell_type": "code",
   "execution_count": 8,
   "metadata": {
    "collapsed": false
   },
   "outputs": [],
   "source": [
    "import os\n",
    "import sys\n",
    "import scipy\n",
    "import scipy.sparse\n",
    "import pandas as pd\n",
    "import numpy as np\n",
    "import xgboost as xgb\n",
    "import time\n",
    "from sklearn.ensemble import RandomForestClassifier\n",
    "from sklearn import cross_validation, metrics\n",
    "from sklearn.grid_search import GridSearchCV\n",
    "from sklearn.model_selection import cross_val_score\n",
    "\n",
    "PROJECT_DIR = '/home/michal/diplomka/code'\n",
    "if PROJECT_DIR not in sys.path:\n",
    "    sys.path.append(PROJECT_DIR)\n",
    "from lib.utils import load_csr_matrix"
   ]
  },
  {
   "cell_type": "code",
   "execution_count": 5,
   "metadata": {
    "collapsed": true
   },
   "outputs": [],
   "source": [
    "FEATURES = ['a_hypernyms', 'a_head_form', 'a_head_number', 'a_non_article_det', 'a_parent', 'a_pos_after_head', 'a_pos_before_head', 'a_words_after_head', 'a_words_after_np', 'a_words_before_head', 'a_words_before_np', 'b_head_proper', 'b_head_pos_simple', 'b_object_form', 'b_pos_after_head_as_list', 'b_pos_before_head_as_list', 'b_pp_object_form', 'b_postmodification_type', 'b_referent', 'b_words_after_head_as_list', 'b_words_after_np_as_list', 'b_words_before_head_as_list', 'b_words_before_np_as_list', 'c_countability_bnc', 'd_head_form_embeddings', 'e_kenlm_ggl_5_lc_nbs']\n",
    "DATA_PATH = os.path.join(PROJECT_DIR, '../data/features/penn/postprocessed')\n",
    "CV_RESULTS_LOG_PATH = os.path.join(PROJECT_DIR, 'logs/experiments/model_results/penn/rf')  # logovani vysledku z cross-validace\n",
    "#NUM_CLASS = 3\n",
    "TRAIN_SET_NAME = 'train'\n",
    "TEST_SET_NAME = 'heldout'"
   ]
  },
  {
   "cell_type": "code",
   "execution_count": 6,
   "metadata": {
    "collapsed": true
   },
   "outputs": [],
   "source": [
    "def load_data(features, dataset_name, sample=None):\n",
    "    y = np.load(os.path.join(DATA_PATH, dataset_name, 'Y_article'))\n",
    "    if sample:\n",
    "        np.random.seed(seed=42)\n",
    "        sample_indices = [np.random.choice(len(y), sample, replace=False)]\n",
    "        y = y[sample_indices]\n",
    "        \n",
    "    feature_matrices = []\n",
    "    for feature_name in features:\n",
    "        feature_matrix = load_csr_matrix(\n",
    "            os.path.join(DATA_PATH, dataset_name, feature_name + '.npz')\n",
    "        )\n",
    "        if sample:\n",
    "            feature_matrix = scipy.sparse.csr_matrix(feature_matrix.toarray()[sample_indices])\n",
    "        feature_matrices.append(feature_matrix)\n",
    "    x =  scipy.sparse.hstack(feature_matrices)\n",
    "    assert x.shape[0] == len(y)\n",
    "    return x, y"
   ]
  },
  {
   "cell_type": "markdown",
   "metadata": {},
   "source": [
    "### Ladění"
   ]
  },
  {
   "cell_type": "code",
   "execution_count": 7,
   "metadata": {
    "collapsed": true
   },
   "outputs": [],
   "source": [
    "RF_DEFAULT_PARAMS = {\n",
    "    'criterion' : 'gini',\n",
    "    'max_features': 'sqrt',\n",
    "    'verbose': 10,\n",
    "    'random_state': 284,\n",
    "    'n_jobs': -1,\n",
    "}"
   ]
  },
  {
   "cell_type": "code",
   "execution_count": null,
   "metadata": {
    "collapsed": true
   },
   "outputs": [],
   "source": [
    "def get_nb_of_trees(train_x, train_y, model_params, log_file):\n",
    "    model = RandomForestClassifier(**dict(model_params, warm_start=True)"
   ]
  }
 ],
 "metadata": {
  "kernelspec": {
   "display_name": "Python 3",
   "language": "python",
   "name": "python3"
  },
  "language_info": {
   "codemirror_mode": {
    "name": "ipython",
    "version": 3
   },
   "file_extension": ".py",
   "mimetype": "text/x-python",
   "name": "python",
   "nbconvert_exporter": "python",
   "pygments_lexer": "ipython3",
   "version": "3.6.0"
  }
 },
 "nbformat": 4,
 "nbformat_minor": 2
}
