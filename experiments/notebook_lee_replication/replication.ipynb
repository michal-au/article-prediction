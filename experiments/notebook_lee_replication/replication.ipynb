{
 "cells": [
  {
   "cell_type": "code",
   "execution_count": 1,
   "metadata": {},
   "outputs": [
    {
     "name": "stdout",
     "output_type": "stream",
     "text": [
      "['ZERO' 'ZERO' 'THE' 'A' 'ZERO' 'ZERO' 'ZERO' 'ZERO' 'THE' 'ZERO']\n"
     ]
    },
    {
     "data": {
      "text/html": [
       "<table border=\"1\" class=\"dataframe\">\n",
       "  <thead>\n",
       "    <tr style=\"text-align: right;\">\n",
       "      <th></th>\n",
       "      <th>_coordinates</th>\n",
       "      <th>_sent</th>\n",
       "      <th>a_head_form</th>\n",
       "      <th>a_head_number</th>\n",
       "      <th>a_head_pos</th>\n",
       "      <th>a_hypernyms</th>\n",
       "      <th>a_non_article_det</th>\n",
       "      <th>a_parent</th>\n",
       "      <th>a_pos_after_head</th>\n",
       "      <th>a_pos_before_head</th>\n",
       "      <th>a_referent</th>\n",
       "      <th>a_words_after_head</th>\n",
       "      <th>a_words_after_np</th>\n",
       "      <th>a_words_before_head</th>\n",
       "      <th>a_words_before_np</th>\n",
       "    </tr>\n",
       "  </thead>\n",
       "  <tbody>\n",
       "    <tr>\n",
       "      <th>0</th>\n",
       "      <td>data/parsed/00/wsj_0001.mrg|1|4</td>\n",
       "      <td>[ Pierre Vinken , ] 61 years old , will join t...</td>\n",
       "      <td>Vinken</td>\n",
       "      <td>sg</td>\n",
       "      <td>NNP</td>\n",
       "      <td>None</td>\n",
       "      <td>None</td>\n",
       "      <td>NP</td>\n",
       "      <td>[,]</td>\n",
       "      <td>[NNP]</td>\n",
       "      <td>False</td>\n",
       "      <td>[,]</td>\n",
       "      <td>[&lt;number&gt;, year]</td>\n",
       "      <td>[Pierre]</td>\n",
       "      <td>[]</td>\n",
       "    </tr>\n",
       "    <tr>\n",
       "      <th>1</th>\n",
       "      <td>data/parsed/00/wsj_0001.mrg|1|12</td>\n",
       "      <td>Pierre Vinken , [ 61 years ] old , will join t...</td>\n",
       "      <td>year</td>\n",
       "      <td>pl</td>\n",
       "      <td>NN</td>\n",
       "      <td>[time_of_life.n.01]</td>\n",
       "      <td>None</td>\n",
       "      <td>ADJP</td>\n",
       "      <td>[]</td>\n",
       "      <td>[CD]</td>\n",
       "      <td>False</td>\n",
       "      <td>[]</td>\n",
       "      <td>[old, ,]</td>\n",
       "      <td>[&lt;number&gt;]</td>\n",
       "      <td>[Vinken, ,]</td>\n",
       "    </tr>\n",
       "    <tr>\n",
       "      <th>2</th>\n",
       "      <td>data/parsed/00/wsj_0001.mrg|1|27</td>\n",
       "      <td>Pierre Vinken , 61 years old , will join [ the...</td>\n",
       "      <td>board</td>\n",
       "      <td>sg</td>\n",
       "      <td>NN</td>\n",
       "      <td>[committee.n.01]</td>\n",
       "      <td>None</td>\n",
       "      <td>VP</td>\n",
       "      <td>[]</td>\n",
       "      <td>[]</td>\n",
       "      <td>False</td>\n",
       "      <td>[]</td>\n",
       "      <td>[as]</td>\n",
       "      <td>[]</td>\n",
       "      <td>[will, join]</td>\n",
       "    </tr>\n",
       "    <tr>\n",
       "      <th>3</th>\n",
       "      <td>data/parsed/00/wsj_0001.mrg|1|35</td>\n",
       "      <td>Pierre Vinken , 61 years old , will join the b...</td>\n",
       "      <td>director</td>\n",
       "      <td>sg</td>\n",
       "      <td>NN</td>\n",
       "      <td>[administrator.n.01]</td>\n",
       "      <td>None</td>\n",
       "      <td>PP</td>\n",
       "      <td>[]</td>\n",
       "      <td>[JJ]</td>\n",
       "      <td>False</td>\n",
       "      <td>[]</td>\n",
       "      <td>[Nov., &lt;number&gt;]</td>\n",
       "      <td>[nonexecutive]</td>\n",
       "      <td>[board, as]</td>\n",
       "    </tr>\n",
       "    <tr>\n",
       "      <th>4</th>\n",
       "      <td>data/parsed/00/wsj_0001.mrg|1|42</td>\n",
       "      <td>Pierre Vinken , 61 years old , will join the b...</td>\n",
       "      <td>Nov.</td>\n",
       "      <td>sg</td>\n",
       "      <td>NNP</td>\n",
       "      <td>None</td>\n",
       "      <td>None</td>\n",
       "      <td>VP</td>\n",
       "      <td>[CD, .]</td>\n",
       "      <td>[]</td>\n",
       "      <td>False</td>\n",
       "      <td>[&lt;number&gt;, .]</td>\n",
       "      <td>[]</td>\n",
       "      <td>[]</td>\n",
       "      <td>[nonexecutive, director]</td>\n",
       "    </tr>\n",
       "    <tr>\n",
       "      <th>5</th>\n",
       "      <td>data/parsed/00/wsj_0001.mrg|2|3</td>\n",
       "      <td>[ Mr. Vinken ] is chairman of Elsevier N.V. , ...</td>\n",
       "      <td>Vinken</td>\n",
       "      <td>sg</td>\n",
       "      <td>NNP</td>\n",
       "      <td>None</td>\n",
       "      <td>None</td>\n",
       "      <td>S</td>\n",
       "      <td>[]</td>\n",
       "      <td>[NNP]</td>\n",
       "      <td>True</td>\n",
       "      <td>[]</td>\n",
       "      <td>[be, chairman]</td>\n",
       "      <td>[Mr.]</td>\n",
       "      <td>[]</td>\n",
       "    </tr>\n",
       "    <tr>\n",
       "      <th>6</th>\n",
       "      <td>data/parsed/00/wsj_0001.mrg|2|12</td>\n",
       "      <td>Mr. Vinken is [ chairman ] of Elsevier N.V. , ...</td>\n",
       "      <td>chairman</td>\n",
       "      <td>sg</td>\n",
       "      <td>NN</td>\n",
       "      <td>[presiding_officer.n.01]</td>\n",
       "      <td>None</td>\n",
       "      <td>NP</td>\n",
       "      <td>[]</td>\n",
       "      <td>[]</td>\n",
       "      <td>False</td>\n",
       "      <td>[]</td>\n",
       "      <td>[of, Elsevier]</td>\n",
       "      <td>[]</td>\n",
       "      <td>[Vinken, be]</td>\n",
       "    </tr>\n",
       "    <tr>\n",
       "      <th>7</th>\n",
       "      <td>data/parsed/00/wsj_0001.mrg|2|19</td>\n",
       "      <td>Mr. Vinken is chairman of [ Elsevier N.V. , ] ...</td>\n",
       "      <td>N.V.</td>\n",
       "      <td>sg</td>\n",
       "      <td>NNP</td>\n",
       "      <td>None</td>\n",
       "      <td>None</td>\n",
       "      <td>NP</td>\n",
       "      <td>[,]</td>\n",
       "      <td>[NNP]</td>\n",
       "      <td>False</td>\n",
       "      <td>[,]</td>\n",
       "      <td>[Dutch]</td>\n",
       "      <td>[Elsevier]</td>\n",
       "      <td>[chairman, of]</td>\n",
       "    </tr>\n",
       "    <tr>\n",
       "      <th>8</th>\n",
       "      <td>data/parsed/00/wsj_0001.mrg|2|26</td>\n",
       "      <td>Mr. Vinken is chairman of Elsevier N.V. , [ th...</td>\n",
       "      <td>group</td>\n",
       "      <td>sg</td>\n",
       "      <td>NN</td>\n",
       "      <td>[abstraction.n.06]</td>\n",
       "      <td>None</td>\n",
       "      <td>NP</td>\n",
       "      <td>[.]</td>\n",
       "      <td>[JJ, NN]</td>\n",
       "      <td>False</td>\n",
       "      <td>[.]</td>\n",
       "      <td>[]</td>\n",
       "      <td>[Dutch, publishing]</td>\n",
       "      <td>[N.V., ,]</td>\n",
       "    </tr>\n",
       "    <tr>\n",
       "      <th>9</th>\n",
       "      <td>data/parsed/00/wsj_0002.mrg|1|4</td>\n",
       "      <td>[ Rudolph Agnew , ] 55 years old and former ch...</td>\n",
       "      <td>Agnew</td>\n",
       "      <td>sg</td>\n",
       "      <td>NNP</td>\n",
       "      <td>None</td>\n",
       "      <td>None</td>\n",
       "      <td>NP</td>\n",
       "      <td>[,]</td>\n",
       "      <td>[NNP]</td>\n",
       "      <td>False</td>\n",
       "      <td>[,]</td>\n",
       "      <td>[&lt;number&gt;, year]</td>\n",
       "      <td>[Rudolph]</td>\n",
       "      <td>[]</td>\n",
       "    </tr>\n",
       "  </tbody>\n",
       "</table>"
      ]
     },
     "output_type": "execute_result",
     "metadata": {}
    }
   ],
   "source": [
    "from __init__ import *\n",
    "\n",
    "print train_Y[:10]\n",
    "HTML(train_X_orig.head(10).to_html())"
   ]
  },
  {
   "cell_type": "code",
   "execution_count": 2,
   "metadata": {},
   "outputs": [
    {
     "data": {
      "text/html": [
       "<table border=\"1\" class=\"dataframe\">\n",
       "  <thead>\n",
       "    <tr style=\"text-align: right;\">\n",
       "      <th></th>\n",
       "      <th>a_head_form</th>\n",
       "      <th>a_head_number</th>\n",
       "      <th>a_head_pos</th>\n",
       "      <th>a_non_article_det</th>\n",
       "      <th>a_parent</th>\n",
       "      <th>a_referent</th>\n",
       "      <th>pah_,</th>\n",
       "      <th>pbh_NNP</th>\n",
       "      <th>wah_,</th>\n",
       "      <th>wan_&lt;number&gt;</th>\n",
       "      <th>wan_year</th>\n",
       "      <th>wbh_Pierre</th>\n",
       "    </tr>\n",
       "  </thead>\n",
       "  <tbody>\n",
       "    <tr>\n",
       "      <th>0</th>\n",
       "      <td>Vinken</td>\n",
       "      <td>sg</td>\n",
       "      <td>NNP</td>\n",
       "      <td>None</td>\n",
       "      <td>NP</td>\n",
       "      <td>False</td>\n",
       "      <td>True</td>\n",
       "      <td>True</td>\n",
       "      <td>True</td>\n",
       "      <td>True</td>\n",
       "      <td>True</td>\n",
       "      <td>True</td>\n",
       "    </tr>\n",
       "  </tbody>\n",
       "</table>"
      ]
     },
     "output_type": "execute_result",
     "metadata": {}
    }
   ],
   "source": [
    "train_X_resolved = resolve_list_features(train_X_orig.ix[:,2:])\n",
    "test_X_resolved = resolve_list_features(test_X_orig.ix[:,2:])\n",
    "\n",
    "HTML(pandas.DataFrame([train_X_resolved[0]]).to_html())"
   ]
  },
  {
   "cell_type": "code",
   "execution_count": 3,
   "metadata": {},
   "outputs": [
    {
     "data": {
      "text/html": [
       "<table border=\"1\" class=\"dataframe\">\n",
       "  <thead>\n",
       "    <tr style=\"text-align: right;\">\n",
       "      <th></th>\n",
       "      <th>a_head_form</th>\n",
       "      <th>a_head_number</th>\n",
       "      <th>a_head_pos</th>\n",
       "      <th>a_parent</th>\n",
       "      <th>a_referent</th>\n",
       "      <th>pah_,</th>\n",
       "      <th>pbh_NNP</th>\n",
       "      <th>wah_,</th>\n",
       "      <th>wan_&lt;number&gt;</th>\n",
       "      <th>wan_year</th>\n",
       "      <th>wbh_Pierre</th>\n",
       "    </tr>\n",
       "  </thead>\n",
       "  <tbody>\n",
       "    <tr>\n",
       "      <th>0</th>\n",
       "      <td>Vinken</td>\n",
       "      <td>sg</td>\n",
       "      <td>NNP</td>\n",
       "      <td>NP</td>\n",
       "      <td>False</td>\n",
       "      <td>True</td>\n",
       "      <td>True</td>\n",
       "      <td>True</td>\n",
       "      <td>True</td>\n",
       "      <td>True</td>\n",
       "      <td>True</td>\n",
       "    </tr>\n",
       "  </tbody>\n",
       "</table>"
      ]
     },
     "output_type": "execute_result",
     "metadata": {}
    }
   ],
   "source": [
    "remove_nans_from_dicts(train_X_resolved)\n",
    "remove_nans_from_dicts(test_X_resolved)\n",
    "\n",
    "HTML(pandas.DataFrame([train_X_resolved[0]]).to_html())"
   ]
  },
  {
   "cell_type": "code",
   "execution_count": 4,
   "metadata": {},
   "outputs": [],
   "source": [
    "vec = DictVectorizer()\n",
    "train_X = vec.fit_transform(train_X_resolved)\n",
    "test_X = vec.transform(test_X_resolved)"
   ]
  },
  {
   "cell_type": "code",
   "execution_count": 5,
   "metadata": {},
   "outputs": [
    {
     "data": {
      "text/plain": [
       "LogisticRegression(C=1.0, class_weight=None, dual=False, fit_intercept=True,\n",
       "          intercept_scaling=1, max_iter=100, multi_class='multinomial',\n",
       "          n_jobs=1, penalty='l2', random_state=None, solver='lbfgs',\n",
       "          tol=0.0001, verbose=0, warm_start=False)"
      ]
     },
     "execution_count": 5,
     "output_type": "execute_result",
     "metadata": {}
    }
   ],
   "source": [
    "model = LogisticRegression(solver='lbfgs' ,multi_class='multinomial')\n",
    "model.fit(train_X, train_Y.ravel())"
   ]
  },
  {
   "cell_type": "code",
   "execution_count": 6,
   "metadata": {},
   "outputs": [
    {
     "name": "stdout",
     "output_type": "stream",
     "text": [
      "0.882680776014\n"
     ]
    }
   ],
   "source": [
    "print model.score(test_X, test_Y)"
   ]
  },
  {
   "cell_type": "markdown",
   "metadata": {},
   "source": [
    "<b>Lee's result</b> 0.877"
   ]
  },
  {
   "cell_type": "code",
   "execution_count": 7,
   "metadata": {},
   "outputs": [
    {
     "name": "stderr",
     "output_type": "stream",
     "text": [
      "/usr/lib/pymodules/python2.7/matplotlib/collections.py:548: FutureWarning: elementwise comparison failed; returning scalar instead, but in the future will perform elementwise comparison\n",
      "  if self._edgecolors == 'face':\n"
     ]
    },
    {
     "data": {
      "image/png": "[encoded data removed]"
     },
     "output_type": "display_data",
     "metadata": {}
    }
   ],
   "source": [
    "%matplotlib inline\n",
    "import numpy\n",
    "cm = confusion_matrix(test_Y, model.predict(test_X))\n",
    "cm_normalized = cm.astype('float') / cm.sum(axis=1)[:, numpy.newaxis]\n",
    "y_names = numpy.unique(test_Y.ravel())\n",
    "plot_cm(cm_normalized, y_names)"
   ]
  },
  {
   "cell_type": "code",
   "execution_count": 8,
   "metadata": {},
   "outputs": [
    {
     "name": "stdout",
     "output_type": "stream",
     "text": [
      "[[ 866  295  144]\n",
      " [ 210 1958  622]\n",
      " [  82  310 9688]]\n",
      "[[ 0.66360153  0.22605364  0.11034483]\n",
      " [ 0.07526882  0.70179211  0.22293907]\n",
      " [ 0.00813492  0.03075397  0.96111111]]\n"
     ]
    }
   ],
   "source": [
    "print cm\n",
    "print cm_normalized"
   ]
  },
  {
   "cell_type": "code",
   "execution_count": 9,
   "metadata": {},
   "outputs": [],
   "source": [
    "export_errors(model.predict(test_X), test_Y, test_X_orig, log_path)"
   ]
  }
 ],
 "metadata": {
  "kernelspec": {
   "display_name": "Python 2",
   "language": "python",
   "name": "python2"
  },
  "language_info": {
   "codemirror_mode": {
    "name": "ipython",
    "version": 2.0
   },
   "file_extension": ".py",
   "mimetype": "text/x-python",
   "name": "python",
   "nbconvert_exporter": "python",
   "pygments_lexer": "ipython2",
   "version": "2.7.6"
  }
 },
 "nbformat": 4,
 "nbformat_minor": 0
}