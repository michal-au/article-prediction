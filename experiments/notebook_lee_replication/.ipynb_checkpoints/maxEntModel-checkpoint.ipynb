{
 "cells": [
  {
   "cell_type": "markdown",
   "metadata": {},
   "source": [
    "### max ent classifier"
   ]
  },
  {
   "cell_type": "code",
   "execution_count": 1,
   "metadata": {
    "collapsed": false
   },
   "outputs": [
    {
     "ename": "ImportError",
     "evalue": "No module named pandas",
     "output_type": "error",
     "traceback": [
      "\u001b[1;31m---------------------------------------------------------------------------\u001b[0m",
      "\u001b[1;31mImportError\u001b[0m                               Traceback (most recent call last)",
      "\u001b[1;32m<ipython-input-1-137e958414b4>\u001b[0m in \u001b[0;36m<module>\u001b[1;34m()\u001b[0m\n\u001b[0;32m      1\u001b[0m \u001b[1;32mimport\u001b[0m \u001b[0mos\u001b[0m\u001b[1;33m\u001b[0m\u001b[0m\n\u001b[1;32m----> 2\u001b[1;33m \u001b[1;32mimport\u001b[0m \u001b[0mpandas\u001b[0m\u001b[1;33m\u001b[0m\u001b[0m\n\u001b[0m\u001b[0;32m      3\u001b[0m \u001b[1;32mfrom\u001b[0m \u001b[0msklearn\u001b[0m\u001b[1;33m.\u001b[0m\u001b[0mlinear_model\u001b[0m \u001b[1;32mimport\u001b[0m \u001b[0mLogisticRegression\u001b[0m\u001b[1;33m\u001b[0m\u001b[0m\n\u001b[0;32m      4\u001b[0m \u001b[1;33m\u001b[0m\u001b[0m\n\u001b[0;32m      5\u001b[0m \u001b[1;32mimport\u001b[0m \u001b[0mlib\u001b[0m\u001b[1;33m.\u001b[0m\u001b[0mutils\u001b[0m\u001b[1;33m\u001b[0m\u001b[0m\n",
      "\u001b[1;31mImportError\u001b[0m: No module named pandas"
     ]
    }
   ],
   "source": [
    "import os\n",
    "import pandas\n",
    "from sklearn.linear_model import LogisticRegression\n",
    "\n",
    "import lib.utils\n",
    "\n",
    "\n",
    "settings = lib.utils.readSettings()\n",
    "path = settings.get(\"paths\", \"dataFeatures\")  \n",
    "    \n",
    "df_train_devel = pandas.read_pickle(os.path.join(path, \"train_devel.pkl\"))\n",
    "df_test = pandas.read_pickle(os.path.join(path, \"test.pkl\"))"
   ]
  },
  {
   "cell_type": "code",
   "execution_count": 4,
   "metadata": {
    "collapsed": false
   },
   "outputs": [
    {
     "name": "stdout",
     "output_type": "stream",
     "text": [
      "Index([u'_bnp', u'_sent', u'article', u'head', u'head_pos', u'hypernyms',\n",
      "       u'number', u'other_det', u'parent', u'referent',\n",
      "       u'tags_of_words_after_head', u'tags_of_words_before_head',\n",
      "       u'words_after_head', u'words_after_np', u'words_before_head',\n",
      "       u'words_before_np'],\n",
      "      dtype='object')\n"
     ]
    },
    {
     "data": {
      "text/html": [
       "<div>\n",
       "<table border=\"1\" class=\"dataframe\">\n",
       "  <thead>\n",
       "    <tr style=\"text-align: right;\">\n",
       "      <th></th>\n",
       "      <th>head</th>\n",
       "      <th>head_pos</th>\n",
       "      <th>hypernyms</th>\n",
       "      <th>number</th>\n",
       "      <th>other_det</th>\n",
       "      <th>parent</th>\n",
       "      <th>referent</th>\n",
       "      <th>tags_of_words_after_head</th>\n",
       "      <th>tags_of_words_before_head</th>\n",
       "      <th>words_after_head</th>\n",
       "      <th>words_after_np</th>\n",
       "      <th>words_before_head</th>\n",
       "      <th>words_before_np</th>\n",
       "    </tr>\n",
       "  </thead>\n",
       "  <tbody>\n",
       "    <tr>\n",
       "      <th>0</th>\n",
       "      <td>vinken</td>\n",
       "      <td>NNP</td>\n",
       "      <td>None</td>\n",
       "      <td>sg</td>\n",
       "      <td>None</td>\n",
       "      <td>NP</td>\n",
       "      <td>False</td>\n",
       "      <td>[,]</td>\n",
       "      <td>[NNP]</td>\n",
       "      <td>[,]</td>\n",
       "      <td>[&lt;number&gt;, year]</td>\n",
       "      <td>[pierre]</td>\n",
       "      <td>[]</td>\n",
       "    </tr>\n",
       "    <tr>\n",
       "      <th>1</th>\n",
       "      <td>year</td>\n",
       "      <td>NN</td>\n",
       "      <td>[time_of_life.n.01]</td>\n",
       "      <td>pl</td>\n",
       "      <td>None</td>\n",
       "      <td>ADJP</td>\n",
       "      <td>False</td>\n",
       "      <td>None</td>\n",
       "      <td>[CD]</td>\n",
       "      <td>None</td>\n",
       "      <td>[old, ,]</td>\n",
       "      <td>[&lt;number&gt;]</td>\n",
       "      <td>[vinken, ,]</td>\n",
       "    </tr>\n",
       "    <tr>\n",
       "      <th>2</th>\n",
       "      <td>board</td>\n",
       "      <td>NN</td>\n",
       "      <td>[committee.n.01]</td>\n",
       "      <td>sg</td>\n",
       "      <td>None</td>\n",
       "      <td>VP</td>\n",
       "      <td>False</td>\n",
       "      <td>None</td>\n",
       "      <td>None</td>\n",
       "      <td>None</td>\n",
       "      <td>[as, a]</td>\n",
       "      <td>None</td>\n",
       "      <td>[will, join]</td>\n",
       "    </tr>\n",
       "    <tr>\n",
       "      <th>3</th>\n",
       "      <td>director</td>\n",
       "      <td>NN</td>\n",
       "      <td>[administrator.n.01]</td>\n",
       "      <td>sg</td>\n",
       "      <td>None</td>\n",
       "      <td>PP</td>\n",
       "      <td>False</td>\n",
       "      <td>None</td>\n",
       "      <td>[JJ]</td>\n",
       "      <td>None</td>\n",
       "      <td>[nov., &lt;number&gt;]</td>\n",
       "      <td>[nonexecutive]</td>\n",
       "      <td>[board, as]</td>\n",
       "    </tr>\n",
       "    <tr>\n",
       "      <th>4</th>\n",
       "      <td>nov.</td>\n",
       "      <td>NNP</td>\n",
       "      <td>None</td>\n",
       "      <td>sg</td>\n",
       "      <td>None</td>\n",
       "      <td>VP</td>\n",
       "      <td>False</td>\n",
       "      <td>[CD, .]</td>\n",
       "      <td>None</td>\n",
       "      <td>[&lt;number&gt;, .]</td>\n",
       "      <td>[]</td>\n",
       "      <td>None</td>\n",
       "      <td>[nonexecutive, director]</td>\n",
       "    </tr>\n",
       "    <tr>\n",
       "      <th>5</th>\n",
       "      <td>vinken</td>\n",
       "      <td>NNP</td>\n",
       "      <td>None</td>\n",
       "      <td>sg</td>\n",
       "      <td>None</td>\n",
       "      <td>S</td>\n",
       "      <td>True</td>\n",
       "      <td>None</td>\n",
       "      <td>[NNP]</td>\n",
       "      <td>None</td>\n",
       "      <td>[be, chairman]</td>\n",
       "      <td>[mr.]</td>\n",
       "      <td>[]</td>\n",
       "    </tr>\n",
       "    <tr>\n",
       "      <th>6</th>\n",
       "      <td>chairman</td>\n",
       "      <td>NN</td>\n",
       "      <td>[presiding_officer.n.01]</td>\n",
       "      <td>sg</td>\n",
       "      <td>None</td>\n",
       "      <td>NP</td>\n",
       "      <td>False</td>\n",
       "      <td>None</td>\n",
       "      <td>None</td>\n",
       "      <td>None</td>\n",
       "      <td>[of, elsevier]</td>\n",
       "      <td>None</td>\n",
       "      <td>[vinken, be]</td>\n",
       "    </tr>\n",
       "    <tr>\n",
       "      <th>7</th>\n",
       "      <td>n.v.</td>\n",
       "      <td>NNP</td>\n",
       "      <td>None</td>\n",
       "      <td>sg</td>\n",
       "      <td>None</td>\n",
       "      <td>NP</td>\n",
       "      <td>False</td>\n",
       "      <td>[,]</td>\n",
       "      <td>[NNP]</td>\n",
       "      <td>[,]</td>\n",
       "      <td>[the, dutch]</td>\n",
       "      <td>[elsevier]</td>\n",
       "      <td>[chairman, of]</td>\n",
       "    </tr>\n",
       "    <tr>\n",
       "      <th>8</th>\n",
       "      <td>group</td>\n",
       "      <td>NN</td>\n",
       "      <td>[abstraction.n.06]</td>\n",
       "      <td>sg</td>\n",
       "      <td>None</td>\n",
       "      <td>NP</td>\n",
       "      <td>False</td>\n",
       "      <td>[.]</td>\n",
       "      <td>[JJ, NN]</td>\n",
       "      <td>[.]</td>\n",
       "      <td>[]</td>\n",
       "      <td>[dutch, publishing]</td>\n",
       "      <td>[n.v., ,]</td>\n",
       "    </tr>\n",
       "    <tr>\n",
       "      <th>9</th>\n",
       "      <td>agnew</td>\n",
       "      <td>NNP</td>\n",
       "      <td>None</td>\n",
       "      <td>sg</td>\n",
       "      <td>None</td>\n",
       "      <td>NP</td>\n",
       "      <td>False</td>\n",
       "      <td>[,]</td>\n",
       "      <td>[NNP]</td>\n",
       "      <td>[,]</td>\n",
       "      <td>[&lt;number&gt;, year]</td>\n",
       "      <td>[rudolph]</td>\n",
       "      <td>[]</td>\n",
       "    </tr>\n",
       "  </tbody>\n",
       "</table>\n",
       "</div>"
      ]
     },
     "metadata": {},
     "output_type": "execute_result"
    }
   ],
   "source": [
    "sample = df_train_devel\n",
    "print sample.columns\n",
    "\n",
    "test_sample = df_test\n",
    "\n",
    "X = sample.ix[:,'head':'words_before_np']\n",
    "Y = sample[['article']].values\n",
    "\n",
    "X_test = test_sample.ix[:,'head':'words_before_np']\n",
    "Y_test = test_sample[['article']].values\n",
    "\n",
    "X[:10]"
   ]
  },
  {
   "cell_type": "markdown",
   "metadata": {},
   "source": [
    "#### list features to individual features:"
   ]
  },
  {
   "cell_type": "code",
   "execution_count": 5,
   "metadata": {
    "collapsed": true
   },
   "outputs": [],
   "source": [
    "# transform a list of elements (old_feature_name) into individual binary features\n",
    "# in the form new_prefix_element\n",
    "    \n",
    "list_features = [\n",
    "    ('hypernyms', 'h'), ('other_det', 'd'), ('tags_of_words_after_head', 'tah'),\n",
    "    ('tags_of_words_before_head', 'tbh'), ('words_after_head', 'wah'), \n",
    "    ('words_after_np', 'wan'), ('words_before_head', 'wbh'), ('words_before_np', 'wbn')\n",
    "]\n",
    "\n",
    "def resolve_list_features(X):\n",
    "    X_cleaned = []\n",
    "    for row in X.to_dict(orient='records'):\n",
    "        for feature, prefix in list_features:\n",
    "            if row.get(feature):\n",
    "                for val in row[feature]:\n",
    "                    row[prefix + '_' + val] = True\n",
    "            row.pop(feature, None)\n",
    "        \n",
    "        X_cleaned.append(row)\n",
    "    return X_cleaned"
   ]
  },
  {
   "cell_type": "code",
   "execution_count": 6,
   "metadata": {
    "collapsed": true
   },
   "outputs": [],
   "source": [
    "X_cleaned = resolve_list_features(X)\n",
    "X_test_cleaned = resolve_list_features(X_test)"
   ]
  },
  {
   "cell_type": "markdown",
   "metadata": {},
   "source": [
    "#### remove the 'nan' values:"
   ]
  },
  {
   "cell_type": "code",
   "execution_count": 7,
   "metadata": {
    "collapsed": true
   },
   "outputs": [],
   "source": [
    "def remove_nans(X):\n",
    "    for row in X:\n",
    "        for k in row.keys():\n",
    "            if row[k] == None:\n",
    "                del row[k]"
   ]
  },
  {
   "cell_type": "code",
   "execution_count": 8,
   "metadata": {
    "collapsed": true
   },
   "outputs": [],
   "source": [
    "remove_nans(X_cleaned)\n",
    "remove_nans(X_test_cleaned)"
   ]
  },
  {
   "cell_type": "markdown",
   "metadata": {},
   "source": [
    "##### nominal to one-hot representation:"
   ]
  },
  {
   "cell_type": "code",
   "execution_count": 9,
   "metadata": {
    "collapsed": true
   },
   "outputs": [],
   "source": [
    "from sklearn.feature_extraction import DictVectorizer\n",
    "\n",
    "vec = DictVectorizer()\n",
    "X_sparse = vec.fit_transform(X_cleaned)\n",
    "X_test_sparse = vec.transform(X_test_cleaned)"
   ]
  },
  {
   "cell_type": "markdown",
   "metadata": {},
   "source": [
    "#### training the model"
   ]
  },
  {
   "cell_type": "code",
   "execution_count": 10,
   "metadata": {
    "collapsed": false
   },
   "outputs": [
    {
     "data": {
      "text/plain": [
       "LogisticRegression(C=1.0, class_weight=None, dual=False, fit_intercept=True,\n",
       "          intercept_scaling=1, max_iter=100, multi_class='multinomial',\n",
       "          penalty='l2', random_state=None, solver='lbfgs', tol=0.0001,\n",
       "          verbose=0)"
      ]
     },
     "execution_count": 10,
     "metadata": {},
     "output_type": "execute_result"
    }
   ],
   "source": [
    "model = LogisticRegression(solver='lbfgs' ,multi_class='multinomial')\n",
    "model.fit(X_sparse, Y.ravel())"
   ]
  },
  {
   "cell_type": "markdown",
   "metadata": {},
   "source": [
    "#### use the model to predict the test data:"
   ]
  },
  {
   "cell_type": "code",
   "execution_count": 11,
   "metadata": {
    "collapsed": false
   },
   "outputs": [
    {
     "name": "stdout",
     "output_type": "stream",
     "text": [
      "0.884105728108\n"
     ]
    }
   ],
   "source": [
    "print model.score(X_test_sparse, Y_test)"
   ]
  },
  {
   "cell_type": "markdown",
   "metadata": {},
   "source": [
    "### RESULTS:\n",
    "- first try, heads from the parser: 0.881581714927\n",
    "- heads separately, rule based: 0.884105728108"
   ]
  },
  {
   "cell_type": "code",
   "execution_count": null,
   "metadata": {
    "collapsed": true
   },
   "outputs": [],
   "source": []
  }
 ],
 "metadata": {
  "kernelspec": {
   "display_name": "Python 2",
   "language": "python",
   "name": "python2"
  },
  "language_info": {
   "codemirror_mode": {
    "name": "ipython",
    "version": 2
   },
   "file_extension": ".py",
   "mimetype": "text/x-python",
   "name": "python",
   "nbconvert_exporter": "python",
   "pygments_lexer": "ipython2",
   "version": "2.7.6"
  }
 },
 "nbformat": 4,
 "nbformat_minor": 0
}
